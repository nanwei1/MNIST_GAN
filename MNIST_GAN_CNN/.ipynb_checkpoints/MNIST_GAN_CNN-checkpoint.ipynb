{
 "cells": [
  {
   "cell_type": "code",
   "execution_count": 1,
   "metadata": {},
   "outputs": [],
   "source": [
    "import os\n",
    "import torch\n",
    "import torchvision\n",
    "import torch.nn as nn\n",
    "from torchvision import transforms\n",
    "from torchvision.utils import save_image\n",
    "from torch.autograd import Variable\n",
    "import matplotlib.pyplot as plt\n",
    "import numpy as np\n",
    "import time\n",
    "from IPython.display import clear_output\n",
    "%matplotlib inline\n",
    "\n",
    "import warnings\n",
    "warnings.filterwarnings('ignore')"
   ]
  },
  {
   "cell_type": "code",
   "execution_count": 2,
   "metadata": {},
   "outputs": [],
   "source": [
    "latent_size = 128\n",
    "image_size = 784\n",
    "init_size = 28/4 #initial size of generated image before upsampling\n",
    "num_epochs = 20\n",
    "batch_size = 64\n",
    "sample_dir = 'samples'\n",
    "save_dir = 'save'"
   ]
  },
  {
   "cell_type": "code",
   "execution_count": 3,
   "metadata": {},
   "outputs": [],
   "source": [
    "# Create a directory if not exists\n",
    "if not os.path.exists(sample_dir):\n",
    "    os.makedirs(sample_dir)\n",
    "\n",
    "if not os.path.exists(save_dir):\n",
    "    os.makedirs(save_dir)"
   ]
  },
  {
   "cell_type": "code",
   "execution_count": 4,
   "metadata": {},
   "outputs": [],
   "source": [
    "# Image processing\n",
    "transform = transforms.Compose([\n",
    "                transforms.ToTensor()])\n",
    "\n",
    "# MNIST dataset\n",
    "mnist = torchvision.datasets.MNIST(root='../data/',\n",
    "                                   train=True,\n",
    "                                   transform=transform)\n",
    "\n",
    "# Data loader\n",
    "data_loader = torch.utils.data.DataLoader(dataset=mnist,\n",
    "                                          batch_size=batch_size, \n",
    "                                          shuffle=True)\n"
   ]
  },
  {
   "cell_type": "code",
   "execution_count": null,
   "metadata": {},
   "outputs": [
    {
     "name": "stdout",
     "output_type": "stream",
     "text": [
      "tensor(0.)\n",
      "tensor(1.)\n"
     ]
    },
    {
     "data": {
      "text/plain": [
       "<matplotlib.image.AxesImage at 0x7fbbc9335eb8>"
      ]
     },
     "execution_count": 5,
     "metadata": {},
     "output_type": "execute_result"
    },
    {
     "data": {
      "image/png": "[encoded data removed]",
      "text/plain": [
       "<Figure size 432x288 with 1 Axes>"
      ]
     },
     "metadata": {
      "needs_background": "light"
     },
     "output_type": "display_data"
    }
   ],
   "source": [
    "imgs, lbls = next(iter(data_loader))\n",
    "imgs[0].data.shape\n",
    "print(imgs.data.min())\n",
    "print(imgs.data.max())\n",
    "plt.imshow(imgs[0].data.reshape((28,28)), cmap=\"gray\")"
   ]
  },
  {
   "cell_type": "code",
   "execution_count": null,
   "metadata": {},
   "outputs": [],
   "source": [
    "class Discriminator(nn.Module):\n",
    "    def __init__(self, num_classes=1, mean=False):\n",
    "        super(Discriminator, self).__init__()\n",
    "        self.minibatch_dis_in = 128\n",
    "        self.minibatch_dis_out = 32\n",
    "        self.minibatch_dis_kernel_dim = 8\n",
    "        self.minibatch_dis_mean = mean\n",
    "        self.T = nn.Parameter(torch.Tensor(self.minibatch_dis_in, \n",
    "                                          self.minibatch_dis_out,\n",
    "                                          self.minibatch_dis_kernel_dim))\n",
    "        nn.init.normal(self.T, 0, 1)\n",
    "        \n",
    "        self.features = nn.Sequential(\n",
    "            nn.Conv2d(in_channels=1,out_channels=4,kernel_size=3),\n",
    "            nn.ReLU(inplace=True),\n",
    "            nn.MaxPool2d(kernel_size=3, stride=1),\n",
    "            nn.Conv2d(in_channels=4,out_channels=8,kernel_size=3),\n",
    "            nn.ReLU(inplace=True),\n",
    "            nn.MaxPool2d(kernel_size=3, stride=1),\n",
    "        )\n",
    "        self.l1 = nn.Sequential(\n",
    "            nn.Linear(8*(28-2*2-2*2)**2,self.minibatch_dis_in),\n",
    "            nn.ReLU(inplace=True),\n",
    "#             nn.Linear(128,num_classes),\n",
    "#             nn.Sigmoid()\n",
    "        )\n",
    "        \n",
    "        self.l2 = nn.Sequential( \n",
    "            nn.Linear(self.minibatch_dis_out+self.minibatch_dis_in,num_classes),\n",
    "            nn.Sigmoid()\n",
    "        )\n",
    "\n",
    "    def forward(self, x):\n",
    "        x = self.features(x)\n",
    "        x = x.view(x.size(0), -1)\n",
    "        x = self.l1(x)\n",
    "        \n",
    "        matrices = x.mm(self.T.view(self.minibatch_dis_in, -1))\n",
    "        matrices = matrices.view(-1, self.minibatch_dis_out, self.minibatch_dis_kernel_dim)\n",
    "        \n",
    "        M = matrices.unsqueeze(0)\n",
    "        M_T = M.permute(1,0,2,3)\n",
    "        norm = torch.abs(M-M_T).sum(3)\n",
    "        expnorm = torch.exp(-norm)\n",
    "        o_b = expnorm.sum(0)-1\n",
    "        if self.minibatch_dis_mean:\n",
    "            o_b /= x.size(0) -1\n",
    "        \n",
    "        x = torch.cat([x,o_b], 1)\n",
    "        x = self.l2(x)\n",
    "        return x\n",
    "\n",
    "class Generator(nn.Module):\n",
    "    def __init__(self):\n",
    "        super(Generator, self).__init__()\n",
    "#         self.l1 = nn.Sequential(nn.Linear(latent_size, int(8*init_size**2)))\n",
    "        self.l1 = nn.Sequential(nn.Linear(latent_size, 256),\n",
    "                                nn.Linear(256, int(16*init_size**2)))\n",
    "        self.conv_blocks = nn.Sequential(\n",
    "            nn.Conv2d(16, 8, 3, stride=1, padding=1),\n",
    "            nn.ReLU(inplace=True),\n",
    "            nn.Upsample(scale_factor=2),\n",
    "            nn.Conv2d(8, 4, 3, stride=1, padding=1),\n",
    "            nn.ReLU(inplace=True),\n",
    "            nn.Upsample(scale_factor=2),\n",
    "            nn.Conv2d(4, 1, 3, stride=1, padding=1),\n",
    "            nn.ReLU(inplace=True),\n",
    "            nn.Upsample(scale_factor=2),\n",
    "            nn.Conv2d(1, 1, 3, stride=2, padding=1), # upsample then downsample to avoid poor image quality\n",
    "            nn.ReLU(inplace=True)\n",
    "            # # this relu layer is the culprit of failed training attempts\n",
    "            # # because it forces the sigmoid output to be >=0.5 which results in all grey images\n",
    "            nn.Sigmoid()\n",
    "        )\n",
    "\n",
    "    def forward(self, x):\n",
    "        out = self.l1(x)\n",
    "        out = out.view(out.shape[0], 16, int(init_size), int(init_size))\n",
    "        img = self.conv_blocks(out)\n",
    "        return img\n",
    "\n",
    "    \n",
    "D = Discriminator()\n",
    "G = Generator()\n",
    "# Binary cross entropy loss and optimizer\n",
    "criterion = nn.BCELoss()\n",
    "d_optimizer = torch.optim.Adam(D.parameters(), lr=2e-4)\n",
    "g_optimizer = torch.optim.Adam(G.parameters(), lr=2e-4)"
   ]
  },
  {
   "cell_type": "code",
   "execution_count": null,
   "metadata": {},
   "outputs": [],
   "source": [
    "def reset_grad():\n",
    "    d_optimizer.zero_grad()\n",
    "    g_optimizer.zero_grad()"
   ]
  },
  {
   "cell_type": "code",
   "execution_count": null,
   "metadata": {
    "scrolled": false
   },
   "outputs": [
    {
     "name": "stdout",
     "output_type": "stream",
     "text": [
      "Epoch 4 / 20 took 677.00 seconds\n",
      "Total training time till this epoch was  2626.36 seconds\n"
     ]
    },
    {
     "data": {
      "image/png": "[encoded data removed]",
      "text/plain": [
       "<Figure size 864x576 with 1 Axes>"
      ]
     },
     "metadata": {
      "needs_background": "light"
     },
     "output_type": "display_data"
    }
   ],
   "source": [
    "# Statistics to be saved\n",
    "d_losses = np.zeros(num_epochs)\n",
    "g_losses = np.zeros(num_epochs)\n",
    "real_scores = np.zeros(num_epochs)\n",
    "fake_scores = np.zeros(num_epochs)\n",
    "\n",
    "# Start training\n",
    "start_time = time.time()\n",
    "total_step = len(data_loader)\n",
    "for epoch in range(num_epochs):\n",
    "    epoch_start_time = time.time()\n",
    "    for i, (images, _) in enumerate(data_loader):\n",
    "        # Create the labels which are later used as input for the BCE loss\n",
    "        real_labels = torch.ones(images.size(0), 1)\n",
    "        fake_labels = torch.zeros(images.size(0), 1)\n",
    "\n",
    "        # ================================================================== #\n",
    "        #                      Train the discriminator                       #\n",
    "        # ================================================================== #\n",
    "\n",
    "        # Compute BCE_Loss using real images where BCE_Loss(x, y): - y * log(D(x)) - (1-y) * log(1 - D(x))\n",
    "        # Second term of the loss is always zero since real_labels == 1\n",
    "        outputs = D(images)\n",
    "        d_loss_real = criterion(outputs, real_labels)\n",
    "        real_score = outputs\n",
    "        \n",
    "        # Compute BCELoss using fake images\n",
    "        # First term of the loss is always zero since fake_labels == 0\n",
    "        reset_grad()\n",
    "        z = torch.randn(images.size(0), latent_size)\n",
    "        fake_images = G(z)\n",
    "        outputs = D(fake_images)\n",
    "        d_loss_fake = criterion(outputs, fake_labels)\n",
    "        fake_score = outputs\n",
    "        \n",
    "        # Backprop and optimize\n",
    "        # If D is trained so well, then don't update\n",
    "        d_loss = d_loss_real + d_loss_fake\n",
    "        d_loss.backward()\n",
    "        d_optimizer.step()\n",
    "        # ================================================================== #\n",
    "        #                        Train the generator                         #\n",
    "        # ================================================================== #\n",
    "\n",
    "        # Compute loss with fake images\n",
    "        reset_grad()\n",
    "        z = torch.randn(batch_size, latent_size)\n",
    "        fake_images = G(z)\n",
    "        outputs = D(fake_images)\n",
    "        \n",
    "        # We train G to maximize log(D(G(z)) instead of minimizing log(1-D(G(z)))\n",
    "        # For the reason, see the last paragraph of section 3. https://arxiv.org/pdf/1406.2661.pdf\n",
    "        real_labels = torch.ones(fake_images.size(0), 1)\n",
    "        g_loss = criterion(outputs, real_labels)\n",
    "        \n",
    "        # Backprop and optimize\n",
    "        g_loss.backward()\n",
    "        g_optimizer.step()\n",
    "        # =================================================================== #\n",
    "        #                          Update Statistics                          #\n",
    "        # =================================================================== #\n",
    "        d_losses[epoch] = d_losses[epoch]*(i/(i+1.)) + d_loss.item()*(1./(i+1.))\n",
    "        g_losses[epoch] = g_losses[epoch]*(i/(i+1.)) + g_loss.item()*(1./(i+1.))\n",
    "        real_scores[epoch] = real_scores[epoch]*(i/(i+1.)) + real_score.mean().item()*(1./(i+1.))\n",
    "        fake_scores[epoch] = fake_scores[epoch]*(i/(i+1.)) + fake_score.mean().item()*(1./(i+1.))\n",
    "    \n",
    "    clear_output(wait=True)\n",
    "    print('Epoch %d / %d took %6.2f seconds' % (epoch+1, num_epochs, time.time()-epoch_start_time))\n",
    "    print('Total training time till this epoch was %8.2f seconds' % (time.time()-start_time))\n",
    "    # Save real images\n",
    "    if (epoch+1) == 1:\n",
    "        images = images.view(images.size(0), 1, 28, 28)\n",
    "        save_image(1-images.data, os.path.join(sample_dir, 'real_images.png'))\n",
    "    \n",
    "    # Save sampled images\n",
    "    fake_images = fake_images.view(fake_images.size(0), 1, 28, 28)\n",
    "    save_image(1-fake_images.data, os.path.join(sample_dir, 'fake_images-{}.png'.format(epoch+1)))\n",
    "    \n",
    "    plt.figure(figsize=(12,8))\n",
    "    ax = plt.gca()\n",
    "    ax.set_xlim([0, num_epochs + 1])\n",
    "    plt.xlabel('Epoch')\n",
    "    plt.ylabel('Loss')\n",
    "    plt.plot(range(1, epoch + 2), d_losses[:epoch+1], label='Discriminator Loss')\n",
    "    plt.plot(range(1, epoch + 2), g_losses[:epoch+1], label='Generator Loss')    \n",
    "    plt.legend()\n",
    "    ax.grid(linestyle='-.')\n",
    "    plt.show()\n",
    "\n",
    "    # Save model at checkpoints\n",
    "    if (epoch+1) % 10 == 0:\n",
    "        torch.save(G.state_dict(), os.path.join(save_dir, 'G--{}.ckpt'.format(epoch+1)))\n",
    "        torch.save(D.state_dict(), os.path.join(save_dir, 'D--{}.ckpt'.format(epoch+1)))\n"
   ]
  },
  {
   "cell_type": "code",
   "execution_count": null,
   "metadata": {},
   "outputs": [],
   "source": [
    "np.save(os.path.join(save_dir, 'd_losses.npy'), d_losses)\n",
    "np.save(os.path.join(save_dir, 'g_losses.npy'), g_losses)\n",
    "np.save(os.path.join(save_dir, 'fake_scores.npy'), fake_scores)\n",
    "np.save(os.path.join(save_dir, 'real_scores.npy'), real_scores)\n",
    "\n",
    "plt.figure(figsize=(12,8))\n",
    "ax = plt.gca()\n",
    "ax.set_xlim([0, num_epochs + 1])\n",
    "plt.xlabel('Epoch')\n",
    "plt.ylabel('Loss')\n",
    "plt.plot(range(1, num_epochs + 1), d_losses, label='d loss')\n",
    "plt.plot(range(1, num_epochs + 1), g_losses, label='g loss')    \n",
    "plt.legend()\n",
    "ax.grid(linestyle='-.')\n",
    "plt.savefig(os.path.join(save_dir, 'loss.png'))\n",
    "\n",
    "plt.figure(figsize=(12,8))\n",
    "ax = plt.gca()\n",
    "ax.set_xlim([0, num_epochs + 1])\n",
    "ax.set_ylim([0, 1])\n",
    "plt.xlabel('Epoch')\n",
    "plt.ylabel('Accuracy Score')\n",
    "plt.plot(range(1, num_epochs + 1), fake_scores, label='fake score')\n",
    "plt.plot(range(1, num_epochs + 1), real_scores, label='real score')    \n",
    "plt.legend()\n",
    "ax.grid(linestyle='-.')\n",
    "plt.savefig(os.path.join(save_dir, 'accuracy.png'))"
   ]
  },
  {
   "cell_type": "code",
   "execution_count": null,
   "metadata": {},
   "outputs": [],
   "source": []
  }
 ],
 "metadata": {
  "kernelspec": {
   "display_name": "Python 3",
   "language": "python",
   "name": "python3"
  },
  "language_info": {
   "codemirror_mode": {
    "name": "ipython",
    "version": 3
   },
   "file_extension": ".py",
   "mimetype": "text/x-python",
   "name": "python",
   "nbconvert_exporter": "python",
   "pygments_lexer": "ipython3",
   "version": "3.6.7"
  }
 },
 "nbformat": 4,
 "nbformat_minor": 2
}
